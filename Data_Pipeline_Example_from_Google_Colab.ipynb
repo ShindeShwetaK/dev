{
  "nbformat": 4,
  "nbformat_minor": 0,
  "metadata": {
    "colab": {
      "provenance": [],
      "include_colab_link": true
    },
    "kernelspec": {
      "name": "python3",
      "display_name": "Python 3"
    }
  },
  "cells": [
    {
      "cell_type": "markdown",
      "metadata": {
        "id": "view-in-github",
        "colab_type": "text"
      },
      "source": [
        "<a href=\"https://colab.research.google.com/github/ShindeShwetaK/dev/blob/main/Data_Pipeline_Example_from_Google_Colab.ipynb\" target=\"_parent\"><img src=\"https://colab.research.google.com/assets/colab-badge.svg\" alt=\"Open In Colab\"/></a>"
      ]
    },
    {
      "cell_type": "markdown",
      "source": [
        "## Configure Snowflake Python Client"
      ],
      "metadata": {
        "id": "1Wq4pflnDXG5"
      }
    },
    {
      "cell_type": "code",
      "source": [
        "from google.colab import userdata\n",
        "\n",
        "user_id = userdata.get('snowflake_userid')\n",
        "password = userdata.get('snowflake_password')\n",
        "account = userdata.get('snowflake_account')"
      ],
      "metadata": {
        "id": "eS18aV7aTwT3"
      },
      "execution_count": null,
      "outputs": []
    },
    {
      "cell_type": "code",
      "source": [
        "!pip install snowflake-connector-python"
      ],
      "metadata": {
        "id": "sITx_XuhoQVk",
        "colab": {
          "base_uri": "https://localhost:8080/"
        },
        "outputId": "b7d5d982-1734-4370-b2ac-334edf3ad3c9"
      },
      "execution_count": null,
      "outputs": [
        {
          "output_type": "stream",
          "name": "stdout",
          "text": [
            "Collecting snowflake-connector-python\n",
            "  Downloading snowflake_connector_python-3.12.2-cp310-cp310-manylinux_2_17_x86_64.manylinux2014_x86_64.whl.metadata (65 kB)\n",
            "\u001b[?25l     \u001b[90m━━━━━━━━━━━━━━━━━━━━━━━━━━━━━━━━━━━━━━━━\u001b[0m \u001b[32m0.0/65.3 kB\u001b[0m \u001b[31m?\u001b[0m eta \u001b[36m-:--:--\u001b[0m\r\u001b[2K     \u001b[90m━━━━━━━━━━━━━━━━━━━━━━━━━━━━━━━━━━━━━━━━\u001b[0m \u001b[32m65.3/65.3 kB\u001b[0m \u001b[31m2.1 MB/s\u001b[0m eta \u001b[36m0:00:00\u001b[0m\n",
            "\u001b[?25hCollecting asn1crypto<2.0.0,>0.24.0 (from snowflake-connector-python)\n",
            "  Downloading asn1crypto-1.5.1-py2.py3-none-any.whl.metadata (13 kB)\n",
            "Requirement already satisfied: cffi<2.0.0,>=1.9 in /usr/local/lib/python3.10/dist-packages (from snowflake-connector-python) (1.17.1)\n",
            "Requirement already satisfied: cryptography>=3.1.0 in /usr/local/lib/python3.10/dist-packages (from snowflake-connector-python) (43.0.1)\n",
            "Requirement already satisfied: pyOpenSSL<25.0.0,>=16.2.0 in /usr/local/lib/python3.10/dist-packages (from snowflake-connector-python) (24.2.1)\n",
            "Requirement already satisfied: pyjwt<3.0.0 in /usr/local/lib/python3.10/dist-packages (from snowflake-connector-python) (2.9.0)\n",
            "Requirement already satisfied: pytz in /usr/local/lib/python3.10/dist-packages (from snowflake-connector-python) (2024.2)\n",
            "Requirement already satisfied: requests<3.0.0 in /usr/local/lib/python3.10/dist-packages (from snowflake-connector-python) (2.32.3)\n",
            "Requirement already satisfied: packaging in /usr/local/lib/python3.10/dist-packages (from snowflake-connector-python) (24.1)\n",
            "Requirement already satisfied: charset-normalizer<4,>=2 in /usr/local/lib/python3.10/dist-packages (from snowflake-connector-python) (3.3.2)\n",
            "Requirement already satisfied: idna<4,>=2.5 in /usr/local/lib/python3.10/dist-packages (from snowflake-connector-python) (3.10)\n",
            "Requirement already satisfied: certifi>=2017.4.17 in /usr/local/lib/python3.10/dist-packages (from snowflake-connector-python) (2024.8.30)\n",
            "Requirement already satisfied: typing-extensions<5,>=4.3 in /usr/local/lib/python3.10/dist-packages (from snowflake-connector-python) (4.12.2)\n",
            "Requirement already satisfied: filelock<4,>=3.5 in /usr/local/lib/python3.10/dist-packages (from snowflake-connector-python) (3.16.1)\n",
            "Requirement already satisfied: sortedcontainers>=2.4.0 in /usr/local/lib/python3.10/dist-packages (from snowflake-connector-python) (2.4.0)\n",
            "Requirement already satisfied: platformdirs<5.0.0,>=2.6.0 in /usr/local/lib/python3.10/dist-packages (from snowflake-connector-python) (4.3.6)\n",
            "Collecting tomlkit (from snowflake-connector-python)\n",
            "  Downloading tomlkit-0.13.2-py3-none-any.whl.metadata (2.7 kB)\n",
            "Requirement already satisfied: pycparser in /usr/local/lib/python3.10/dist-packages (from cffi<2.0.0,>=1.9->snowflake-connector-python) (2.22)\n",
            "Requirement already satisfied: urllib3<3,>=1.21.1 in /usr/local/lib/python3.10/dist-packages (from requests<3.0.0->snowflake-connector-python) (2.0.7)\n",
            "Downloading snowflake_connector_python-3.12.2-cp310-cp310-manylinux_2_17_x86_64.manylinux2014_x86_64.whl (2.5 MB)\n",
            "\u001b[2K   \u001b[90m━━━━━━━━━━━━━━━━━━━━━━━━━━━━━━━━━━━━━━━━\u001b[0m \u001b[32m2.5/2.5 MB\u001b[0m \u001b[31m29.8 MB/s\u001b[0m eta \u001b[36m0:00:00\u001b[0m\n",
            "\u001b[?25hDownloading asn1crypto-1.5.1-py2.py3-none-any.whl (105 kB)\n",
            "\u001b[2K   \u001b[90m━━━━━━━━━━━━━━━━━━━━━━━━━━━━━━━━━━━━━━━━\u001b[0m \u001b[32m105.0/105.0 kB\u001b[0m \u001b[31m7.4 MB/s\u001b[0m eta \u001b[36m0:00:00\u001b[0m\n",
            "\u001b[?25hDownloading tomlkit-0.13.2-py3-none-any.whl (37 kB)\n",
            "Installing collected packages: asn1crypto, tomlkit, snowflake-connector-python\n",
            "Successfully installed asn1crypto-1.5.1 snowflake-connector-python-3.12.2 tomlkit-0.13.2\n"
          ]
        }
      ]
    },
    {
      "cell_type": "code",
      "source": [
        "import snowflake.connector\n",
        "\n",
        "def return_snowflake_conn():\n",
        "    # Establish a connection to Snowflake\n",
        "    conn = snowflake.connector.connect(\n",
        "        user=user_id,\n",
        "        password=password,\n",
        "        account=account,  # Example: 'xyz12345.us-east-1'\n",
        "        warehouse='compute_wh',\n",
        "        database='dev'\n",
        "    )\n",
        "    # Create a cursor object\n",
        "    return conn.cursor()"
      ],
      "metadata": {
        "id": "LOH9fZ1Vzk-5"
      },
      "execution_count": null,
      "outputs": []
    },
    {
      "cell_type": "markdown",
      "metadata": {
        "id": "XVtoIXUGWcWR"
      },
      "source": [
        "## 1st version: define ETL functions"
      ]
    },
    {
      "cell_type": "code",
      "metadata": {
        "id": "gjDwY95epWDi"
      },
      "source": [
        "import requests\n",
        "\n",
        "def extract(url):\n",
        "    f = requests.get(url)\n",
        "    return (f.text)"
      ],
      "execution_count": null,
      "outputs": []
    },
    {
      "cell_type": "code",
      "metadata": {
        "id": "0pz_AfKj8vXl"
      },
      "source": [
        "def transform(text):\n",
        "    lines = text.strip().split(\"\\n\")\n",
        "    records = []\n",
        "    for l in lines:\n",
        "      (country, capital) = l.split(\",\")\n",
        "      records.append([country, capital])\n",
        "    # return the records except the first entry\n",
        "    return records"
      ],
      "execution_count": null,
      "outputs": []
    },
    {
      "cell_type": "code",
      "metadata": {
        "id": "whLfutS48yCX"
      },
      "source": [
        "def load(con, records):\n",
        "    # full refresh\n",
        "    target_table = \"dev.raw_data.country_capital\"\n",
        "    con.execute(f\"\"\"\n",
        "    CREATE TABLE IF NOT EXISTS {target_table} (\n",
        "      country varchar primary key,\n",
        "      capital varchar\n",
        "    )\"\"\")\n",
        "    # load records\n",
        "    for r in records: # we want records except the first one\n",
        "        country = r[0].replace(\"'\", \"''\")\n",
        "        capital = r[1].replace(\"'\", \"''\")\n",
        "        print(country, \"-\", capital)\n",
        "        # use parameterized INSERT INTO to handle some special characters such as '\n",
        "        sql = f\"INSERT INTO {target_table} (country, capital) VALUES ('{country}', '{capital}')\"\n",
        "        # print(sql)\n",
        "        con.execute(sql)"
      ],
      "execution_count": null,
      "outputs": []
    },
    {
      "cell_type": "markdown",
      "metadata": {
        "id": "nOOqLjKsWj7g"
      },
      "source": [
        "## 이제 Extract부터 함수를 하나씩 실행"
      ]
    },
    {
      "cell_type": "code",
      "metadata": {
        "id": "8cGBsu5Mv4J2"
      },
      "source": [
        "link = \"https://s3-geospatial.s3.us-west-2.amazonaws.com/country_capital.csv\"\n",
        "\n",
        "data = extract(link)"
      ],
      "execution_count": null,
      "outputs": []
    },
    {
      "cell_type": "code",
      "metadata": {
        "id": "lNnm3VNn2zO0",
        "colab": {
          "base_uri": "https://localhost:8080/",
          "height": 174
        },
        "outputId": "f71ef0b2-6ec9-42ee-88f1-e4900a94753b"
      },
      "source": [
        "data"
      ],
      "execution_count": null,
      "outputs": [
        {
          "output_type": "execute_result",
          "data": {
            "text/plain": [
              "\"country,capital\\nAbkhazia,Sukhumi\\nAfghanistan,Kabul\\nAkrotiri and Dhekelia,Episkopi Cantonment\\nAlbania,Tirana\\nAlgeria,Algiers\\nAmerican Samoa,Pago Pago\\nAndorra,Andorra la Vella\\nAngola,Luanda\\nAnguilla,The Valley\\nAntigua and Barbuda,St. John's\\nArgentina,Buenos Aires\\nArmenia,Yerevan\\nAruba,Oranjestad\\nAscension Island,Georgetown\\nAustralia,Canberra\\nAustria,Vienna\\nAzerbaijan,Baku\\nBahamas,Nassau\\nBahrain,Manama\\nBangladesh,Dhaka\\nBarbados,Bridgetown\\nBelarus,Minsk\\nBelgium,Brussels\\nBelize,Belmopan\\nBenin,Porto-Novo\\nBermuda,Hamilton\\nBhutan,Thimphu\\nBolivia,Sucre\\nBolivia,La Paz\\nBosnia and Herzegovina,Sarajevo\\nBotswana,Gaborone\\nBrazil,Brasâ\\x88\\x9aâ\\x89\\xa0lia\\nBritish Virgin Islands,Road Town\\nBrunei,Bandar Seri Begawan\\nBulgaria,Sofia\\nBurkina Faso,Ouagadougou\\nBurundi,Bujumbura\\nCambodia,Phnom Penh\\nCameroon,Yaoundâ\\x88\\x9aÂ©\\nCanada,Ottawa\\nCape Verde,Praia\\nCayman Islands,George Town\\nCentral African Republic,Bangui\\nChad,N'Djamena\\nChile,Santiago\\nChina,Beijing\\nChristmas Island,Flying Fish Cove\\nCocos (Keeling) Islands,West Island\\nColombia,Bogotâ\\x88\\x9aÂ°\\nComoros,Moroni\\nCook Islands,Avarua\\nCosta Rica,San Josâ\\x88\\x9aÂ©\\nCroatia,Zagreb\\nCuba,Havana\\nCuraâ\\x88\\x9aÃ\\x9fao,Willemstad\\nCyprus,Nicosia\\nCzech Republic,Prague\\nCâ\\x88\\x9aÂ¥te d'Ivoire,Yamoussoukro\\nDemocratic Republic of the Congo,Kinshasa\\nDenmark,Copenhagen\\nDjibouti,Djibouti\\nDominica,Roseau\\nDominican Republic,Santo Domingo\\nEast Timor (Timor-Leste),Dili\\nEaster Island,Hanga Roa\\nEcuador,Quito\\nEgypt,Cairo\\nEl Salvador,San Salvador\\nEquatorial Guinea,Malabo\\nEritrea,Asmara\\nEstonia,Tallinn\\nEthiopia,Addis Ababa\\nFalkland Islands,Stanley\\nFaroe Islands,Tâ\\x88\\x9aâ\\x89¥rshavn\\nFederated States of Micronesia,Palikir\\nFiji,Suva\\nFinland,Helsinki\\nFrance,Paris\\nFrench Guiana,Cayenne\\nFrench Polynesia,Papeete\\nGabon,Libreville\\nGambia,Banjul\\nGeorgia,Tbilisi\\nGermany,Berlin\\nGhana,Accra\\nGibraltar,Gibraltar\\nGreece,Athens\\nGreenland,Nuuk\\nGrenada,St. George's\\nGuam,Hagâ\\x88\\x9aâ\\x80¢tâ\\x88\\x9aÂ±a\\nGuatemala,Guatemala City\\nGuernsey,St. Peter Port\\nGuinea,Conakry\\nGuinea-Bissau,Bissau\\nGuyana,Georgetown\\nHaiti,Port-au-Prince\\nHonduras,Tegucigalpa\\nHungary,Budapest\\nIceland,Reykjavâ\\x88\\x9aâ\\x89\\xa0k\\nIndia,New Delhi\\nIndonesia,Jakarta\\nIran,Tehran\\nIraq,Baghdad\\nIreland,Dublin\\nIsle of Man,Douglas\\nIsrael,Jerusalem\\nItaly,Rome\\nJamaica,Kingston\\nJapan,Tokyo\\nJersey,St. Helier\\nJordan,Amman\\nKazakhstan,Astana\\nKenya,Nairobi\\nKiribati,Tarawa\\nKosovo,Pristina\\nKuwait,Kuwait City\\nKyrgyzstan,Bishkek\\nLaos,Vientiane\\nLatvia,Riga\\nLebanon,Beirut\\nLesotho,Maseru\\nLiberia,Monrovia\\nLibya,Tripoli\\nLiechtenstein,Vaduz\\nLithuania,Vilnius\\nLuxembourg,Luxembourg\\nMacedonia,Skopje\\nMadagascar,Antananarivo\\nMalawi,Lilongwe\\nMalaysia,Kuala Lumpur\\nMaldives,Malâ\\x88\\x9aÂ©\\nMali,Bamako\\nMalta,Valletta\\nMarshall Islands,Majuro\\nMauritania,Nouakchott\\nMauritius,Port Louis\\nMexico,Mexico City\\nMoldova,Chisinau\\nMonaco,Monaco\\nMongolia,Ulaanbaatar\\nMontenegro,Podgorica\\nMontserrat,Plymouth\\nMorocco,Rabat\\nMozambique,Maputo\\nMyanmar,Naypyidaw\\nNagorno-Karabakh Republic,Stepanakert\\nNamibia,Windhoek\\nNauru,Yaren\\nNepal,Kathmandu\\nNetherlands,Amsterdam\\nNew Caledonia,Noumâ\\x88\\x9aÂ©a\\nNew Zealand,Wellington\\nNicaragua,Managua\\nNiger,Niamey\\nNigeria,Abuja\\nNiue,Alofi\\nNorfolk Island,Kingston\\nNorth Korea,Pyongyang\\nNorthern Cyprus,Nicosia\\nUnited Kingdom Northern Ireland,Belfast\\nNorthern Mariana Islands,Saipan\\nNorway,Oslo\\nOman,Muscat\\nPakistan,Islamabad\\nPalau,Ngerulmud\\nPalestine,Jerusalem\\nPanama,Panama City\\nPapua New Guinea,Port Moresby\\nParaguay,Asunciâ\\x88\\x9aâ\\x89¥n\\nPeru,Lima\\nPhilippines,Manila\\nPitcairn Islands,Adamstown\\nPoland,Warsaw\\nPortugal,Lisbon\\nPuerto Rico,San Juan\\nQatar,Doha\\nRepublic of China (Taiwan),Taipei\\nRepublic of the Congo,Brazzaville\\nRomania,Bucharest\\nRussia,Moscow\\nRwanda,Kigali\\nSaint Barthâ\\x88\\x9aÂ©lemy,Gustavia\\nSaint Helena,Jamestown\\nSaint Kitts and Nevis,Basseterre\\nSaint Lucia,Castries\\nSaint Martin,Marigot\\nSaint Pierre and Miquelon,St. Pierre\\nSaint Vincent and the Grenadines,Kingstown\\nSamoa,Apia\\nSan Marino,San Marino\\nSaudi Arabia,Riyadh\\nScotland,Edinburgh\\nSenegal,Dakar\\nSerbia,Belgrade\\nSeychelles,Victoria\\nSierra Leone,Freetown\\nSingapore,Singapore\\nSint Maarten,Philipsburg\\nSlovakia,Bratislava\\nSlovenia,Ljubljana\\nSolomon Islands,Honiara\\nSomalia,Mogadishu\\nSomaliland,Hargeisa\\nSouth Africa,Pretoria\\nSouth Georgia and the South Sandwich Islands,Grytviken\\nSouth Korea,Seoul\\nSouth Ossetia,Tskhinvali\\nSouth Sudan,Juba\\nSpain,Madrid\\nSri Lanka,Sri Jayawardenapura Kotte\\nSudan,Khartoum\\nSuriname,Paramaribo\\nSwaziland,Mbabane\\nSweden,Stockholm\\nSwitzerland,Bern\\nSyria,Damascus\\nSâ\\x88\\x9aÂ£o Tomâ\\x88\\x9aÂ© and Prâ\\x88\\x9aâ\\x89\\xa0ncipe,Sâ\\x88\\x9aÂ£o Tomâ\\x88\\x9aÂ©\\nTajikistan,Dushanbe\\nTanzania,Dodoma\\nThailand,Bangkok\\nTogo,Lomâ\\x88\\x9aÂ©\\nTonga,NukuÂ\\xa0Âªalofa\\nTransnistria,Tiraspol\\nTrinidad and Tobago,Port of Spain\\nTristan da Cunha,Edinburgh of the Seven Seas\\nTunisia,Tunis\\nTurkey,Ankara\\nTurkmenistan,Ashgabat\\nTurks and Caicos Islands,Cockburn Town\\nTuvalu,Funafuti\\nUganda,Kampala\\nUkraine,Kyiv\\nUnited Arab Emirates,Abu Dhabi\\nUnited Kingdom; England,London\\nUnited States,Washington D.C.\\nUnited States Virgin Islands,Charlotte Amalie\\nUruguay,Montevideo\\nUzbekistan,Tashkent\\nVanuatu,Port Vila\\nVatican City,Vatican City\\nVenezuela,Caracas\\nVietnam,Hanoi\\nWales,Cardiff\\nWallis and Futuna,Mata-Utu\\nWestern Sahara,El Aaiâ\\x88\\x9aâ\\x88«n\\nYemen,Sanaâ\\x88\\x9aÂ°\\nZambia,Lusaka\\nZimbabwe,Harare\\n\""
            ],
            "application/vnd.google.colaboratory.intrinsic+json": {
              "type": "string"
            }
          },
          "metadata": {},
          "execution_count": 8
        }
      ]
    },
    {
      "cell_type": "code",
      "metadata": {
        "id": "NYVbGIWJ84tm"
      },
      "source": [
        "lines = transform(data)"
      ],
      "execution_count": null,
      "outputs": []
    },
    {
      "cell_type": "code",
      "source": [
        "len(lines)"
      ],
      "metadata": {
        "colab": {
          "base_uri": "https://localhost:8080/"
        },
        "id": "XZRH4s3M2T5D",
        "outputId": "4239b209-ae74-47fd-f959-d90bec39a0e8"
      },
      "execution_count": null,
      "outputs": [
        {
          "output_type": "execute_result",
          "data": {
            "text/plain": [
              "249"
            ]
          },
          "metadata": {},
          "execution_count": 10
        }
      ]
    },
    {
      "cell_type": "code",
      "metadata": {
        "id": "UtrEY5YX24ZR",
        "colab": {
          "base_uri": "https://localhost:8080/"
        },
        "outputId": "729d5c0a-e899-4d48-fe07-813e11f1dab3"
      },
      "source": [
        "lines[0:10]"
      ],
      "execution_count": null,
      "outputs": [
        {
          "output_type": "execute_result",
          "data": {
            "text/plain": [
              "[['country', 'capital'],\n",
              " ['Abkhazia', 'Sukhumi'],\n",
              " ['Afghanistan', 'Kabul'],\n",
              " ['Akrotiri and Dhekelia', 'Episkopi Cantonment'],\n",
              " ['Albania', 'Tirana'],\n",
              " ['Algeria', 'Algiers'],\n",
              " ['American Samoa', 'Pago Pago'],\n",
              " ['Andorra', 'Andorra la Vella'],\n",
              " ['Angola', 'Luanda'],\n",
              " ['Anguilla', 'The Valley']]"
            ]
          },
          "metadata": {},
          "execution_count": 11
        }
      ]
    },
    {
      "cell_type": "code",
      "metadata": {
        "id": "iWeBp9YA86-O",
        "colab": {
          "base_uri": "https://localhost:8080/"
        },
        "outputId": "3f189d6c-bd4a-4eac-baec-dfbc71a07da4"
      },
      "source": [
        "con = return_snowflake_conn()\n",
        "load(con, lines)"
      ],
      "execution_count": null,
      "outputs": [
        {
          "output_type": "stream",
          "name": "stdout",
          "text": [
            "country - capital\n",
            "Abkhazia - Sukhumi\n",
            "Afghanistan - Kabul\n",
            "Akrotiri and Dhekelia - Episkopi Cantonment\n",
            "Albania - Tirana\n",
            "Algeria - Algiers\n",
            "American Samoa - Pago Pago\n",
            "Andorra - Andorra la Vella\n",
            "Angola - Luanda\n",
            "Anguilla - The Valley\n",
            "Antigua and Barbuda - St. John''s\n",
            "Argentina - Buenos Aires\n",
            "Armenia - Yerevan\n",
            "Aruba - Oranjestad\n",
            "Ascension Island - Georgetown\n",
            "Australia - Canberra\n",
            "Austria - Vienna\n",
            "Azerbaijan - Baku\n",
            "Bahamas - Nassau\n",
            "Bahrain - Manama\n",
            "Bangladesh - Dhaka\n",
            "Barbados - Bridgetown\n",
            "Belarus - Minsk\n",
            "Belgium - Brussels\n",
            "Belize - Belmopan\n",
            "Benin - Porto-Novo\n",
            "Bermuda - Hamilton\n",
            "Bhutan - Thimphu\n",
            "Bolivia - Sucre\n",
            "Bolivia - La Paz\n",
            "Bosnia and Herzegovina - Sarajevo\n",
            "Botswana - Gaborone\n",
            "Brazil - Brasââ lia\n",
            "British Virgin Islands - Road Town\n",
            "Brunei - Bandar Seri Begawan\n",
            "Bulgaria - Sofia\n",
            "Burkina Faso - Ouagadougou\n",
            "Burundi - Bujumbura\n",
            "Cambodia - Phnom Penh\n",
            "Cameroon - YaoundâÂ©\n",
            "Canada - Ottawa\n",
            "Cape Verde - Praia\n",
            "Cayman Islands - George Town\n",
            "Central African Republic - Bangui\n",
            "Chad - N''Djamena\n",
            "Chile - Santiago\n",
            "China - Beijing\n",
            "Christmas Island - Flying Fish Cove\n",
            "Cocos (Keeling) Islands - West Island\n",
            "Colombia - BogotâÂ°\n",
            "Comoros - Moroni\n",
            "Cook Islands - Avarua\n",
            "Costa Rica - San JosâÂ©\n",
            "Croatia - Zagreb\n",
            "Cuba - Havana\n",
            "CuraâÃao - Willemstad\n",
            "Cyprus - Nicosia\n",
            "Czech Republic - Prague\n",
            "CâÂ¥te d''Ivoire - Yamoussoukro\n",
            "Democratic Republic of the Congo - Kinshasa\n",
            "Denmark - Copenhagen\n",
            "Djibouti - Djibouti\n",
            "Dominica - Roseau\n",
            "Dominican Republic - Santo Domingo\n",
            "East Timor (Timor-Leste) - Dili\n",
            "Easter Island - Hanga Roa\n",
            "Ecuador - Quito\n",
            "Egypt - Cairo\n",
            "El Salvador - San Salvador\n",
            "Equatorial Guinea - Malabo\n",
            "Eritrea - Asmara\n",
            "Estonia - Tallinn\n",
            "Ethiopia - Addis Ababa\n",
            "Falkland Islands - Stanley\n",
            "Faroe Islands - Tââ¥rshavn\n",
            "Federated States of Micronesia - Palikir\n",
            "Fiji - Suva\n",
            "Finland - Helsinki\n",
            "France - Paris\n",
            "French Guiana - Cayenne\n",
            "French Polynesia - Papeete\n",
            "Gabon - Libreville\n",
            "Gambia - Banjul\n",
            "Georgia - Tbilisi\n",
            "Germany - Berlin\n",
            "Ghana - Accra\n",
            "Gibraltar - Gibraltar\n",
            "Greece - Athens\n",
            "Greenland - Nuuk\n",
            "Grenada - St. George''s\n",
            "Guam - Hagââ¢tâÂ±a\n",
            "Guatemala - Guatemala City\n",
            "Guernsey - St. Peter Port\n",
            "Guinea - Conakry\n",
            "Guinea-Bissau - Bissau\n",
            "Guyana - Georgetown\n",
            "Haiti - Port-au-Prince\n",
            "Honduras - Tegucigalpa\n",
            "Hungary - Budapest\n",
            "Iceland - Reykjavââ k\n",
            "India - New Delhi\n",
            "Indonesia - Jakarta\n",
            "Iran - Tehran\n",
            "Iraq - Baghdad\n",
            "Ireland - Dublin\n",
            "Isle of Man - Douglas\n",
            "Israel - Jerusalem\n",
            "Italy - Rome\n",
            "Jamaica - Kingston\n",
            "Japan - Tokyo\n",
            "Jersey - St. Helier\n",
            "Jordan - Amman\n",
            "Kazakhstan - Astana\n",
            "Kenya - Nairobi\n",
            "Kiribati - Tarawa\n",
            "Kosovo - Pristina\n",
            "Kuwait - Kuwait City\n",
            "Kyrgyzstan - Bishkek\n",
            "Laos - Vientiane\n",
            "Latvia - Riga\n",
            "Lebanon - Beirut\n",
            "Lesotho - Maseru\n",
            "Liberia - Monrovia\n",
            "Libya - Tripoli\n",
            "Liechtenstein - Vaduz\n",
            "Lithuania - Vilnius\n",
            "Luxembourg - Luxembourg\n",
            "Macedonia - Skopje\n",
            "Madagascar - Antananarivo\n",
            "Malawi - Lilongwe\n",
            "Malaysia - Kuala Lumpur\n",
            "Maldives - MalâÂ©\n",
            "Mali - Bamako\n",
            "Malta - Valletta\n",
            "Marshall Islands - Majuro\n",
            "Mauritania - Nouakchott\n",
            "Mauritius - Port Louis\n",
            "Mexico - Mexico City\n",
            "Moldova - Chisinau\n",
            "Monaco - Monaco\n",
            "Mongolia - Ulaanbaatar\n",
            "Montenegro - Podgorica\n",
            "Montserrat - Plymouth\n",
            "Morocco - Rabat\n",
            "Mozambique - Maputo\n",
            "Myanmar - Naypyidaw\n",
            "Nagorno-Karabakh Republic - Stepanakert\n",
            "Namibia - Windhoek\n",
            "Nauru - Yaren\n",
            "Nepal - Kathmandu\n",
            "Netherlands - Amsterdam\n",
            "New Caledonia - NoumâÂ©a\n",
            "New Zealand - Wellington\n",
            "Nicaragua - Managua\n",
            "Niger - Niamey\n",
            "Nigeria - Abuja\n",
            "Niue - Alofi\n",
            "Norfolk Island - Kingston\n",
            "North Korea - Pyongyang\n",
            "Northern Cyprus - Nicosia\n",
            "United Kingdom Northern Ireland - Belfast\n",
            "Northern Mariana Islands - Saipan\n",
            "Norway - Oslo\n",
            "Oman - Muscat\n",
            "Pakistan - Islamabad\n",
            "Palau - Ngerulmud\n",
            "Palestine - Jerusalem\n",
            "Panama - Panama City\n",
            "Papua New Guinea - Port Moresby\n",
            "Paraguay - Asunciââ¥n\n",
            "Peru - Lima\n",
            "Philippines - Manila\n",
            "Pitcairn Islands - Adamstown\n",
            "Poland - Warsaw\n",
            "Portugal - Lisbon\n",
            "Puerto Rico - San Juan\n",
            "Qatar - Doha\n",
            "Republic of China (Taiwan) - Taipei\n",
            "Republic of the Congo - Brazzaville\n",
            "Romania - Bucharest\n",
            "Russia - Moscow\n",
            "Rwanda - Kigali\n",
            "Saint BarthâÂ©lemy - Gustavia\n",
            "Saint Helena - Jamestown\n",
            "Saint Kitts and Nevis - Basseterre\n",
            "Saint Lucia - Castries\n",
            "Saint Martin - Marigot\n",
            "Saint Pierre and Miquelon - St. Pierre\n",
            "Saint Vincent and the Grenadines - Kingstown\n",
            "Samoa - Apia\n",
            "San Marino - San Marino\n",
            "Saudi Arabia - Riyadh\n",
            "Scotland - Edinburgh\n",
            "Senegal - Dakar\n",
            "Serbia - Belgrade\n",
            "Seychelles - Victoria\n",
            "Sierra Leone - Freetown\n",
            "Singapore - Singapore\n",
            "Sint Maarten - Philipsburg\n",
            "Slovakia - Bratislava\n",
            "Slovenia - Ljubljana\n",
            "Solomon Islands - Honiara\n",
            "Somalia - Mogadishu\n",
            "Somaliland - Hargeisa\n",
            "South Africa - Pretoria\n",
            "South Georgia and the South Sandwich Islands - Grytviken\n",
            "South Korea - Seoul\n",
            "South Ossetia - Tskhinvali\n",
            "South Sudan - Juba\n",
            "Spain - Madrid\n",
            "Sri Lanka - Sri Jayawardenapura Kotte\n",
            "Sudan - Khartoum\n",
            "Suriname - Paramaribo\n",
            "Swaziland - Mbabane\n",
            "Sweden - Stockholm\n",
            "Switzerland - Bern\n",
            "Syria - Damascus\n",
            "SâÂ£o TomâÂ© and Prââ ncipe - SâÂ£o TomâÂ©\n",
            "Tajikistan - Dushanbe\n",
            "Tanzania - Dodoma\n",
            "Thailand - Bangkok\n",
            "Togo - LomâÂ©\n",
            "Tonga - NukuÂ Âªalofa\n",
            "Transnistria - Tiraspol\n",
            "Trinidad and Tobago - Port of Spain\n",
            "Tristan da Cunha - Edinburgh of the Seven Seas\n",
            "Tunisia - Tunis\n",
            "Turkey - Ankara\n",
            "Turkmenistan - Ashgabat\n",
            "Turks and Caicos Islands - Cockburn Town\n",
            "Tuvalu - Funafuti\n",
            "Uganda - Kampala\n",
            "Ukraine - Kyiv\n",
            "United Arab Emirates - Abu Dhabi\n",
            "United Kingdom; England - London\n",
            "United States - Washington D.C.\n",
            "United States Virgin Islands - Charlotte Amalie\n",
            "Uruguay - Montevideo\n",
            "Uzbekistan - Tashkent\n",
            "Vanuatu - Port Vila\n",
            "Vatican City - Vatican City\n",
            "Venezuela - Caracas\n",
            "Vietnam - Hanoi\n",
            "Wales - Cardiff\n",
            "Wallis and Futuna - Mata-Utu\n",
            "Western Sahara - El Aaiââ«n\n",
            "Yemen - SanaâÂ°\n",
            "Zambia - Lusaka\n",
            "Zimbabwe - Harare\n"
          ]
        }
      ]
    },
    {
      "cell_type": "code",
      "source": [
        "def check_table_stats(table):\n",
        "    result = con.execute(f\"SELECT * FROM {table}\")\n",
        "    df = con.fetch_pandas_all()\n",
        "    print(df.head())\n",
        "    print(len(df))"
      ],
      "metadata": {
        "id": "l7ZRWSq2zs7L"
      },
      "execution_count": null,
      "outputs": []
    },
    {
      "cell_type": "code",
      "source": [
        "check_table_stats(\"dev.raw_data.country_capital\")"
      ],
      "metadata": {
        "colab": {
          "base_uri": "https://localhost:8080/"
        },
        "id": "EsT9MlsGz8ij",
        "outputId": "ece6fabd-b086-4fbe-8565-4f3543e355f7"
      },
      "execution_count": null,
      "outputs": [
        {
          "output_type": "stream",
          "name": "stdout",
          "text": [
            "                 COUNTRY              CAPITAL\n",
            "0               Abkhazia              Sukhumi\n",
            "1            Afghanistan                Kabul\n",
            "2  Akrotiri and Dhekelia  Episkopi Cantonment\n",
            "3                Albania               Tirana\n",
            "4                Algeria              Algiers\n",
            "497\n"
          ]
        }
      ]
    },
    {
      "cell_type": "markdown",
      "source": [
        "## run again to check if idempotency is ensured."
      ],
      "metadata": {
        "id": "qLdLhkhl9Red"
      }
    },
    {
      "cell_type": "code",
      "source": [
        "data = extract(link)\n",
        "lines = transform(data)\n",
        "con = return_snowflake_conn()\n",
        "load(con, lines)\n",
        "check_table_stats(\"dev.raw_data.country_capital\")"
      ],
      "metadata": {
        "id": "WGJK5K3csSvS"
      },
      "execution_count": null,
      "outputs": []
    },
    {
      "cell_type": "markdown",
      "source": [
        "## Rerun to see if the Idempotency is maintained."
      ],
      "metadata": {
        "id": "f8Vh4rzTDuXU"
      }
    },
    {
      "cell_type": "markdown",
      "source": [
        "## Let's improve the codes to maintain the idempotency of the pipeline"
      ],
      "metadata": {
        "id": "fUjN2ZoJsidG"
      }
    },
    {
      "cell_type": "code",
      "source": [
        "# First remove the header\n",
        "def transform_v2(text):\n",
        "    lines = text.strip().split(\"\\n\")\n",
        "    records = []\n",
        "    for l in lines:  # remove the first row\n",
        "        (country, capital) = l.split(\",\")\n",
        "        records.append([country, capital])\n",
        "    return records[1:]"
      ],
      "metadata": {
        "id": "V_4udR41tCHM"
      },
      "execution_count": null,
      "outputs": []
    },
    {
      "cell_type": "code",
      "source": [
        "# Full refresh\n",
        "# Drop the table first before updating\n",
        "# Use transaction to ensure data integrity\n",
        "def load_v2(con, records):\n",
        "    target_table = \"dev.raw_data.country_capital\"\n",
        "    try:\n",
        "        con.execute(\"BEGIN;\")\n",
        "        con.execute(f\"CREATE OR REPLACE TABLE {target_table} (country varchar primary key, capital varchar);\")\n",
        "        for r in records:\n",
        "            country = r[0].replace(\"'\", \"''\")\n",
        "            capital = r[1].replace(\"'\", \"''\")\n",
        "            print(country, \"-\", capital)\n",
        "\n",
        "            sql = f\"INSERT INTO {target_table} (country, capital) VALUES ('{country}', '{capital}')\"\n",
        "            con.execute(sql)\n",
        "        con.execute(\"COMMIT;\")\n",
        "    except Exception as e:\n",
        "        con.execute(\"ROLLBACK;\")\n",
        "        print(e)\n",
        "        raise e"
      ],
      "metadata": {
        "id": "W5kYTmChtkQ-"
      },
      "execution_count": null,
      "outputs": []
    },
    {
      "cell_type": "code",
      "source": [
        "def country_capital_data_pipeline_v2(link):\n",
        "    con = return_snowflake_conn()\n",
        "    data = extract(link)\n",
        "    lines = transform_v2(data)\n",
        "    load_v2(con, lines)\n",
        "    check_table_stats(\"dev.raw_data.country_capital\")\n",
        "    con.close()"
      ],
      "metadata": {
        "id": "MDZIo0SwuJrf"
      },
      "execution_count": null,
      "outputs": []
    },
    {
      "cell_type": "code",
      "source": [
        "country_capital_data_pipeline_v2(link)"
      ],
      "metadata": {
        "id": "T98hcR_Zbieq"
      },
      "execution_count": null,
      "outputs": []
    },
    {
      "cell_type": "code",
      "source": [
        "country_capital_data_pipeline_v2(link)"
      ],
      "metadata": {
        "id": "QPc7YIVpb3Sc"
      },
      "execution_count": null,
      "outputs": []
    },
    {
      "cell_type": "markdown",
      "source": [
        "## Now let's implement incremental update using MERGE SQL"
      ],
      "metadata": {
        "id": "gNKzUfdwX0Qc"
      }
    },
    {
      "cell_type": "code",
      "source": [
        "# Implement incremental update using MERGE SQL in Snowflake\n",
        "def load_v3(con, records):\n",
        "    staging_table = \"dev.raw_data.temp_country_capital\"\n",
        "    target_table = \"dev.raw_data.country_capital\"\n",
        "    try:\n",
        "        con.execute(f\"\"\"\n",
        "          -- CREATE TABLE IF NOT EXISTS {target_table} (\n",
        "          CREATE OR REPLACE TABLE {target_table} (\n",
        "            country varchar primary key, capital varchar\n",
        "          );\"\"\")\n",
        "        con.execute(f\"\"\"\n",
        "          CREATE OR REPLACE TABLE {staging_table} (\n",
        "            country varchar primary key, capital varchar\n",
        "          );\"\"\")\n",
        "        for r in records:\n",
        "            country = r[0].replace(\"'\", \"''\")\n",
        "            capital = r[1].replace(\"'\", \"''\")\n",
        "            sql = f\"INSERT INTO {staging_table} (country, capital) VALUES ('{country}', '{capital}');\"\n",
        "            print(sql)\n",
        "            con.execute(sql)\n",
        "        # perform UPSERT\n",
        "        upsert_sql = f\"\"\"\n",
        "            -- Performing the UPSERT operation\n",
        "            MERGE INTO {target_table} AS target\n",
        "            USING {staging_table} AS stage\n",
        "            ON target.country = stage.country\n",
        "            WHEN MATCHED THEN\n",
        "                UPDATE SET\n",
        "                    target.country = stage.country,\n",
        "                    target.capital = stage.capital\n",
        "            WHEN NOT MATCHED THEN\n",
        "                INSERT (country, capital)\n",
        "                VALUES (stage.country, stage.capital);\n",
        "        \"\"\"\n",
        "        con.execute(upsert_sql)\n",
        "    except Exception as e:\n",
        "        print(e)\n",
        "        raise e"
      ],
      "metadata": {
        "id": "lP7EAFLoYOob"
      },
      "execution_count": null,
      "outputs": []
    },
    {
      "cell_type": "code",
      "source": [
        "def country_capital_data_pipeline_inc(link):\n",
        "    con = return_snowflake_conn()\n",
        "    data = extract(link)\n",
        "    lines = transform_v2(data)\n",
        "    load_v3(con, lines)\n",
        "    check_table_stats(\"dev.raw_data.country_capital\")\n",
        "    con.close()"
      ],
      "metadata": {
        "id": "-67NyR0Qivh8"
      },
      "execution_count": null,
      "outputs": []
    },
    {
      "cell_type": "code",
      "source": [
        "country_capital_data_pipeline_inc(\"https://s3-geospatial.s3.us-west-2.amazonaws.com/country_capital.csv\")"
      ],
      "metadata": {
        "id": "myn8E672oAW0"
      },
      "execution_count": null,
      "outputs": []
    },
    {
      "cell_type": "code",
      "source": [],
      "metadata": {
        "id": "vEjNWdXHoHEh"
      },
      "execution_count": null,
      "outputs": []
    }
  ]
}